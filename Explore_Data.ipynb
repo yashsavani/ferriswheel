{
 "cells": [
  {
   "cell_type": "markdown",
   "metadata": {},
   "source": [
    "# Explore the data"
   ]
  },
  {
   "cell_type": "markdown",
   "metadata": {},
   "source": [
    "## Import libraries"
   ]
  },
  {
   "cell_type": "code",
   "execution_count": 83,
   "metadata": {},
   "outputs": [],
   "source": [
    "%reload_ext autoreload\n",
    "%autoreload 2\n",
    "%matplotlib inline"
   ]
  },
  {
   "cell_type": "code",
   "execution_count": 25,
   "metadata": {},
   "outputs": [],
   "source": [
    "import json\n",
    "import pandas as pd\n",
    "from collections import Counter\n",
    "import matplotlib.pyplot as plt\n",
    "import regex as re"
   ]
  },
  {
   "cell_type": "markdown",
   "metadata": {},
   "source": [
    "## Load the data"
   ]
  },
  {
   "cell_type": "code",
   "execution_count": 7,
   "metadata": {},
   "outputs": [
    {
     "name": "stdout",
     "output_type": "stream",
     "text": [
      "Number of categories = 11\n",
      "\n",
      "Dresses\n",
      "Tops\n",
      "Jeans\n",
      "Skirts\n",
      "Rompers\n",
      "Shoes\n",
      "Bags\n",
      "Jewelry\n",
      "Swimwear\n",
      "Intimates\n",
      "Others\n",
      "\n",
      "Number of products = 1000\n"
     ]
    },
    {
     "data": {
      "text/html": [
       "<div>\n",
       "<style scoped>\n",
       "    .dataframe tbody tr th:only-of-type {\n",
       "        vertical-align: middle;\n",
       "    }\n",
       "\n",
       "    .dataframe tbody tr th {\n",
       "        vertical-align: top;\n",
       "    }\n",
       "\n",
       "    .dataframe thead th {\n",
       "        text-align: right;\n",
       "    }\n",
       "</style>\n",
       "<table border=\"1\" class=\"dataframe\">\n",
       "  <thead>\n",
       "    <tr style=\"text-align: right;\">\n",
       "      <th></th>\n",
       "      <th>description</th>\n",
       "      <th>images_url</th>\n",
       "    </tr>\n",
       "  </thead>\n",
       "  <tbody>\n",
       "    <tr>\n",
       "      <th>332</th>\n",
       "      <td>\\nDesigner Notes:\\nThe Louisa Nightgown is a t...</td>\n",
       "      <td>http://cdn.shopify.com/s/files/1/0276/9941/pro...</td>\n",
       "    </tr>\n",
       "    <tr>\n",
       "      <th>468</th>\n",
       "      <td>Sperry has been making classic slip-free shoe ...</td>\n",
       "      <td>https://www.jcrew.com/s7-img-facade/F7316_EG41...</td>\n",
       "    </tr>\n",
       "    <tr>\n",
       "      <th>191</th>\n",
       "      <td>Shop the Women's Dreamy Cotton Pajama Set In S...</td>\n",
       "      <td>https://www.jcrew.com/s7-img-facade/B7341_KU65...</td>\n",
       "    </tr>\n",
       "    <tr>\n",
       "      <th>392</th>\n",
       "      <td></td>\n",
       "      <td>https://www.hue.com/media/catalog/product/cach...</td>\n",
       "    </tr>\n",
       "    <tr>\n",
       "      <th>355</th>\n",
       "      <td>Shop the Women's Petite Long Tie-Waist Jacket ...</td>\n",
       "      <td>https://www.jcrew.com/s7-img-facade/J1706_BR11...</td>\n",
       "    </tr>\n",
       "    <tr>\n",
       "      <th>946</th>\n",
       "      <td>&lt;meta charset=\"utf-8\"&gt;&lt;span&gt;We like to imagine...</td>\n",
       "      <td>//cdn.shopify.com/s/files/1/1067/4288/products...</td>\n",
       "    </tr>\n",
       "    <tr>\n",
       "      <th>351</th>\n",
       "      <td>Shop the Women's Demi-Fine 14K Gold-Plated Dro...</td>\n",
       "      <td>https://www.jcrew.com/s7-img-facade/H4220_EC72...</td>\n",
       "    </tr>\n",
       "    <tr>\n",
       "      <th>566</th>\n",
       "      <td>Everybody loves a flattering wrap top, so we m...</td>\n",
       "      <td>https://www.jcrew.com/s7-img-facade/J2842_KA28...</td>\n",
       "    </tr>\n",
       "    <tr>\n",
       "      <th>98</th>\n",
       "      <td>Shop the Contrast Ribbed Turtleneck at J.Cew a...</td>\n",
       "      <td>https://www.jcrew.com/s7-img-facade/H1838_NA64...</td>\n",
       "    </tr>\n",
       "    <tr>\n",
       "      <th>371</th>\n",
       "      <td>description</td>\n",
       "      <td>https://ao.ips.photos/aliceandolivia-java/imag...</td>\n",
       "    </tr>\n",
       "  </tbody>\n",
       "</table>\n",
       "</div>"
      ],
      "text/plain": [
       "                                           description  \\\n",
       "332  \\nDesigner Notes:\\nThe Louisa Nightgown is a t...   \n",
       "468  Sperry has been making classic slip-free shoe ...   \n",
       "191  Shop the Women's Dreamy Cotton Pajama Set In S...   \n",
       "392                                                      \n",
       "355  Shop the Women's Petite Long Tie-Waist Jacket ...   \n",
       "946  <meta charset=\"utf-8\"><span>We like to imagine...   \n",
       "351  Shop the Women's Demi-Fine 14K Gold-Plated Dro...   \n",
       "566  Everybody loves a flattering wrap top, so we m...   \n",
       "98   Shop the Contrast Ribbed Turtleneck at J.Cew a...   \n",
       "371                                        description   \n",
       "\n",
       "                                            images_url  \n",
       "332  http://cdn.shopify.com/s/files/1/0276/9941/pro...  \n",
       "468  https://www.jcrew.com/s7-img-facade/F7316_EG41...  \n",
       "191  https://www.jcrew.com/s7-img-facade/B7341_KU65...  \n",
       "392  https://www.hue.com/media/catalog/product/cach...  \n",
       "355  https://www.jcrew.com/s7-img-facade/J1706_BR11...  \n",
       "946  //cdn.shopify.com/s/files/1/1067/4288/products...  \n",
       "351  https://www.jcrew.com/s7-img-facade/H4220_EC72...  \n",
       "566  https://www.jcrew.com/s7-img-facade/J2842_KA28...  \n",
       "98   https://www.jcrew.com/s7-img-facade/H1838_NA64...  \n",
       "371  https://ao.ips.photos/aliceandolivia-java/imag...  "
      ]
     },
     "metadata": {},
     "output_type": "display_data"
    }
   ],
   "source": [
    "with open('product_categories.txt', 'r') as categories_fh:\n",
    "    categories = [category.strip() for category in categories_fh.readlines()]\n",
    "    \n",
    "with open('product_data.json', 'r') as data_fh:\n",
    "    data = pd.DataFrame(json.load(data_fh))\n",
    "\n",
    "print(f\"Number of categories = {len(categories)}\")\n",
    "print()\n",
    "for category in categories:\n",
    "    print(category)\n",
    "    \n",
    "print()    \n",
    "print(f\"Number of products = {len(data)}\")\n",
    "\n",
    "small_sample = data.sample(10)\n",
    "large_sample = data.sample(100)\n",
    "\n",
    "\n",
    "display(small_sample)"
   ]
  },
  {
   "cell_type": "markdown",
   "metadata": {},
   "source": [
    "## Explore text data"
   ]
  },
  {
   "cell_type": "markdown",
   "metadata": {},
   "source": [
    "### How many descriptions have an exact word match with the category"
   ]
  },
  {
   "cell_type": "code",
   "execution_count": 8,
   "metadata": {},
   "outputs": [
    {
     "name": "stdout",
     "output_type": "stream",
     "text": [
      "214 of the descriptions had an exact match with at least one of the categories.\n",
      "2 of the descriptions had an exact match with more than one of the categories.\n",
      "\n",
      "The descriptions with more than one exact match are:\n",
      "\n",
      "In terms of hands-down closet essentials, our boy shirt ranks up there with blue jeans, chinos and little black dresses. Featuring a boyfriend-inspired fit that's tailored especially for you, this one sports a fun, confetti-inspired plaid we love. Body length: 27 1/4. Cotton/elastane. Machine wash. Import. Online only.\n",
      "\n",
      "In terms of hands-down closet essentials, our boy shirt ranks up there with blue jeans, chinos and little black dresses. Featuring a boyfriend-inspired fit that's tailored especially for you, we made this one in a crisp cotton, with embroidered and embellished details we just love. Body length: 27 1/4. Cotton. Tab sleeves. Functional buttons at cuffs. Button placket. Hand wash. Import. Online only.\n",
      "\n"
     ]
    }
   ],
   "source": [
    "def exact_match(desc):\n",
    "    ret = []\n",
    "    for category in categories:\n",
    "        if category.lower() in desc.lower():\n",
    "            ret.append(category)\n",
    "    return ret\n",
    "\n",
    "data['exact_match'] = data.description.apply(exact_match)\n",
    "num_at_least_one_matches = data.exact_match.apply(lambda x: len(x) > 0).sum()\n",
    "\n",
    "print(f\"{num_at_least_one_matches} of the descriptions had an exact match with at least one of the categories.\")\n",
    "\n",
    "num_more_than_one = data.exact_match.apply(lambda x: len(x) > 1).sum()\n",
    "\n",
    "print(f\"{num_more_than_one} of the descriptions had an exact match with more than one of the categories.\")\n",
    "\n",
    "print()\n",
    "print(\"The descriptions with more than one exact match are:\")\n",
    "print()\n",
    "for desc in data[data.exact_match.apply(lambda x: len(x) > 1)].description:\n",
    "    print(desc)\n",
    "    print()"
   ]
  },
  {
   "cell_type": "code",
   "execution_count": 22,
   "metadata": {},
   "outputs": [
    {
     "name": "stdout",
     "output_type": "stream",
     "text": [
      "\n"
     ]
    },
    {
     "data": {
      "image/png": "[encoded data removed]",
      "text/plain": [
       "<Figure size 432x288 with 1 Axes>"
      ]
     },
     "metadata": {
      "needs_background": "light"
     },
     "output_type": "display_data"
    }
   ],
   "source": [
    "matches = Counter()\n",
    "for match in data.exact_match:\n",
    "    matches += Counter(match)\n",
    "sorted_matches = matches.most_common()\n",
    "\n",
    "plt.bar([key for key, val in sorted_matches], [val for key, val in sorted_matches])\n",
    "plt.xlabel('Categories')\n",
    "plt.ylabel('Count')\n",
    "plt.title('Frequencey of Categories with Exact Matches')\n",
    "plt.setp(plt.gca().get_xticklabels(), rotation=45, horizontalalignment='right')\n",
    "print()"
   ]
  },
  {
   "cell_type": "markdown",
   "metadata": {},
   "source": [
    "## Iterate with Regexes and data"
   ]
  },
  {
   "cell_type": "markdown",
   "metadata": {},
   "source": [
    "For our baseline we can use the exact matches. It looks like we might be able to do a little better though. Maybe if we can find regex aliases for categories like \"Footwear\" for \"Shoes\" we might be able to get better results."
   ]
  },
  {
   "cell_type": "code",
   "execution_count": 79,
   "metadata": {},
   "outputs": [],
   "source": [
    "aliases = {\n",
    "    'Dresses': [r'\\bdress'],\n",
    "    'Tops': [r'\\btop', r'shirt', r'tank', r'\\bsweater', r'\\bcardigan', r'\\bpullover', r'\\bturtleneck', r'\\btee'],\n",
    "    'Jeans': [r'\\bjean'],\n",
    "    'Skirts': [r'\\bskirt'],\n",
    "    'Rompers': [r'\\bromper'],\n",
    "    'Shoes': [r'\\bshoe', r'\\bfootwear', r'\\bsandals', r'\\bflat', r'\\bheel', r'\\bboot'],\n",
    "    'Bags': [r'\\bbag', r'\\bpurse'],\n",
    "    'Jewelry': [r'\\bjewelry', r'\\bnecklace', r'\\bring', r'\\bbracelet', r'\\bchain', r'\\bearring'],\n",
    "    'Swimwear': [r'\\bswim', r'\\bbikini'],\n",
    "    'Intimates': [r'\\bintimate', r'\\bbra(ssiere|lette)?\\b', r'\\bboxer', r'\\bunderwear', r'\\bundie', r'\\bknicker'],\n",
    "    'Others': []\n",
    "}\n",
    "\n",
    "neg_aliases = {\n",
    "    'Dresses': [r'\\bdressy'],\n",
    "    'Tops': [],\n",
    "    'Jeans': [],\n",
    "    'Skirts': [],\n",
    "    'Rompers': [],\n",
    "    'Shoes': [],\n",
    "    'Bags': [],\n",
    "    'Jewelry': [],\n",
    "    'Swimwear': [],\n",
    "    'Intimates': [],\n",
    "    'Others': []\n",
    "}\n",
    "for category in aliases:\n",
    "    aliases[category] = re.compile(r'|'.join(aliases[category]), re.IGNORECASE)\n",
    "    if len(neg_aliases[category]) > 0:\n",
    "        neg_aliases[category] = re.compile(r'|'.join(neg_aliases[category]), re.IGNORECASE)    "
   ]
  },
  {
   "cell_type": "code",
   "execution_count": 80,
   "metadata": {},
   "outputs": [
    {
     "name": "stdout",
     "output_type": "stream",
     "text": [
      "656 description matches.\n"
     ]
    }
   ],
   "source": [
    "def regex_match(desc):\n",
    "    ret_list = []\n",
    "    for category, regex in aliases.items():\n",
    "        if category == \"Others\":\n",
    "            continue\n",
    "        if neg_aliases[category] != [] and neg_aliases[category].search(desc):\n",
    "            continue\n",
    "        if regex.search(desc):\n",
    "            ret_list.append(category)\n",
    "    return ret_list\n",
    "\n",
    "data['regex_match'] = data.description.apply(regex_match)\n",
    "\n",
    "num_at_least_one_matches = data.regex_match.apply(lambda x: len(x) > 0).sum()\n",
    "\n",
    "print(f\"{num_at_least_one_matches} description matches.\")"
   ]
  },
  {
   "cell_type": "code",
   "execution_count": 81,
   "metadata": {},
   "outputs": [
    {
     "name": "stdout",
     "output_type": "stream",
     "text": [
      "\n"
     ]
    },
    {
     "data": {
      "image/png": "[encoded data removed]",
      "text/plain": [
       "<Figure size 432x288 with 1 Axes>"
      ]
     },
     "metadata": {
      "needs_background": "light"
     },
     "output_type": "display_data"
    }
   ],
   "source": [
    "matches = Counter()\n",
    "for match in data.regex_match:\n",
    "    matches += Counter(match)\n",
    "sorted_matches = matches.most_common()\n",
    "\n",
    "plt.bar([key for key, val in sorted_matches], [val for key, val in sorted_matches])\n",
    "plt.xlabel('Categories')\n",
    "plt.ylabel('Count')\n",
    "plt.title('Frequencey of Categories with Exact Matches')\n",
    "plt.setp(plt.gca().get_xticklabels(), rotation=45, horizontalalignment='right')\n",
    "print()"
   ]
  },
  {
   "cell_type": "code",
   "execution_count": 82,
   "metadata": {},
   "outputs": [],
   "source": [
    "data.sample(frac=1.0).to_csv('regex.csv', index=False, encoding='utf-8-sig')"
   ]
  },
  {
   "cell_type": "code",
   "execution_count": null,
   "metadata": {},
   "outputs": [],
   "source": []
  }
 ],
 "metadata": {
  "kernelspec": {
   "display_name": "Python 3",
   "language": "python",
   "name": "python3"
  },
  "language_info": {
   "codemirror_mode": {
    "name": "ipython",
    "version": 3
   },
   "file_extension": ".py",
   "mimetype": "text/x-python",
   "name": "python",
   "nbconvert_exporter": "python",
   "pygments_lexer": "ipython3",
   "version": "3.7.2"
  }
 },
 "nbformat": 4,
 "nbformat_minor": 2
}
